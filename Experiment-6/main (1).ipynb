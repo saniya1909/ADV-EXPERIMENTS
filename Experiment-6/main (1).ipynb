{
 "cells": [
  {
   "cell_type": "code",
   "execution_count": 1,
   "metadata": {},
   "outputs": [],
   "source": [
    "import pandas as pd\n"
   ]
  },
  {
   "cell_type": "code",
   "execution_count": 2,
   "metadata": {},
   "outputs": [
    {
     "data": {
      "text/html": [
       "<div>\n",
       "<style scoped>\n",
       "    .dataframe tbody tr th:only-of-type {\n",
       "        vertical-align: middle;\n",
       "    }\n",
       "\n",
       "    .dataframe tbody tr th {\n",
       "        vertical-align: top;\n",
       "    }\n",
       "\n",
       "    .dataframe thead th {\n",
       "        text-align: right;\n",
       "    }\n",
       "</style>\n",
       "<table border=\"1\" class=\"dataframe\">\n",
       "  <thead>\n",
       "    <tr style=\"text-align: right;\">\n",
       "      <th></th>\n",
       "      <th>Animal</th>\n",
       "      <th>Height (cm)</th>\n",
       "      <th>Weight (kg)</th>\n",
       "      <th>Color</th>\n",
       "      <th>Lifespan (years)</th>\n",
       "      <th>Diet</th>\n",
       "      <th>Habitat</th>\n",
       "      <th>Predators</th>\n",
       "      <th>Average Speed (km/h)</th>\n",
       "      <th>Countries Found</th>\n",
       "      <th>Conservation Status</th>\n",
       "      <th>Family</th>\n",
       "      <th>Gestation Period (days)</th>\n",
       "      <th>Top Speed (km/h)</th>\n",
       "      <th>Social Structure</th>\n",
       "      <th>Offspring per Birth</th>\n",
       "    </tr>\n",
       "  </thead>\n",
       "  <tbody>\n",
       "    <tr>\n",
       "      <th>0</th>\n",
       "      <td>Aardvark</td>\n",
       "      <td>105-130</td>\n",
       "      <td>40-65</td>\n",
       "      <td>Grey</td>\n",
       "      <td>20-30</td>\n",
       "      <td>Insectivore</td>\n",
       "      <td>Savannas, Grasslands</td>\n",
       "      <td>Lions, Hyenas</td>\n",
       "      <td>40</td>\n",
       "      <td>Africa</td>\n",
       "      <td>Least Concern</td>\n",
       "      <td>Orycteropodidae</td>\n",
       "      <td>210-240</td>\n",
       "      <td>40</td>\n",
       "      <td>Solitary</td>\n",
       "      <td>1</td>\n",
       "    </tr>\n",
       "    <tr>\n",
       "      <th>1</th>\n",
       "      <td>Aardwolf</td>\n",
       "      <td>40-50</td>\n",
       "      <td>8-14</td>\n",
       "      <td>Yellow-brown</td>\n",
       "      <td>10-12</td>\n",
       "      <td>Insectivore</td>\n",
       "      <td>Grasslands, Savannas</td>\n",
       "      <td>Lions, Leopards</td>\n",
       "      <td>24-30</td>\n",
       "      <td>Eastern and Southern Africa</td>\n",
       "      <td>Least Concern</td>\n",
       "      <td>Hyaenidae</td>\n",
       "      <td>90</td>\n",
       "      <td>40</td>\n",
       "      <td>Solitary</td>\n",
       "      <td>2-5</td>\n",
       "    </tr>\n",
       "    <tr>\n",
       "      <th>2</th>\n",
       "      <td>African Elephant</td>\n",
       "      <td>270-310</td>\n",
       "      <td>2700-6000</td>\n",
       "      <td>Grey</td>\n",
       "      <td>60-70</td>\n",
       "      <td>Herbivore</td>\n",
       "      <td>Savannah, Forest</td>\n",
       "      <td>Lions, Hyenas</td>\n",
       "      <td>25</td>\n",
       "      <td>Africa</td>\n",
       "      <td>Vulnerable</td>\n",
       "      <td>Elephantidae</td>\n",
       "      <td>640-660</td>\n",
       "      <td>40</td>\n",
       "      <td>Herd-based</td>\n",
       "      <td>1</td>\n",
       "    </tr>\n",
       "    <tr>\n",
       "      <th>3</th>\n",
       "      <td>African Lion</td>\n",
       "      <td>80-110</td>\n",
       "      <td>120-250</td>\n",
       "      <td>Tan</td>\n",
       "      <td>10-14</td>\n",
       "      <td>Carnivore</td>\n",
       "      <td>Grasslands, Savannas</td>\n",
       "      <td>Hyenas, Crocodiles</td>\n",
       "      <td>58</td>\n",
       "      <td>Africa</td>\n",
       "      <td>Vulnerable</td>\n",
       "      <td>Felidae</td>\n",
       "      <td>98-105</td>\n",
       "      <td>80</td>\n",
       "      <td>Group-based</td>\n",
       "      <td>2-4 (usually)</td>\n",
       "    </tr>\n",
       "    <tr>\n",
       "      <th>4</th>\n",
       "      <td>African Wild Dog</td>\n",
       "      <td>75-80</td>\n",
       "      <td>18-36</td>\n",
       "      <td>Multicolored</td>\n",
       "      <td>10-12</td>\n",
       "      <td>Carnivore</td>\n",
       "      <td>Savannahs</td>\n",
       "      <td>Lions, Hyenas</td>\n",
       "      <td>56</td>\n",
       "      <td>Sub-Saharan Africa</td>\n",
       "      <td>Endangered</td>\n",
       "      <td>Canidae</td>\n",
       "      <td>70</td>\n",
       "      <td>56</td>\n",
       "      <td>Group-based</td>\n",
       "      <td>10-12</td>\n",
       "    </tr>\n",
       "  </tbody>\n",
       "</table>\n",
       "</div>"
      ],
      "text/plain": [
       "             Animal Height (cm) Weight (kg)         Color Lifespan (years)  \\\n",
       "0          Aardvark     105-130       40-65          Grey            20-30   \n",
       "1          Aardwolf       40-50        8-14  Yellow-brown            10-12   \n",
       "2  African Elephant     270-310   2700-6000          Grey            60-70   \n",
       "3      African Lion      80-110     120-250           Tan            10-14   \n",
       "4  African Wild Dog       75-80       18-36  Multicolored            10-12   \n",
       "\n",
       "          Diet               Habitat           Predators Average Speed (km/h)  \\\n",
       "0  Insectivore  Savannas, Grasslands       Lions, Hyenas                   40   \n",
       "1  Insectivore  Grasslands, Savannas     Lions, Leopards                24-30   \n",
       "2    Herbivore      Savannah, Forest       Lions, Hyenas                   25   \n",
       "3    Carnivore  Grasslands, Savannas  Hyenas, Crocodiles                   58   \n",
       "4    Carnivore             Savannahs       Lions, Hyenas                   56   \n",
       "\n",
       "               Countries Found Conservation Status           Family  \\\n",
       "0                       Africa       Least Concern  Orycteropodidae   \n",
       "1  Eastern and Southern Africa       Least Concern        Hyaenidae   \n",
       "2                       Africa          Vulnerable     Elephantidae   \n",
       "3                       Africa          Vulnerable          Felidae   \n",
       "4           Sub-Saharan Africa          Endangered          Canidae   \n",
       "\n",
       "  Gestation Period (days) Top Speed (km/h) Social Structure  \\\n",
       "0                 210-240               40         Solitary   \n",
       "1                      90               40         Solitary   \n",
       "2                 640-660               40       Herd-based   \n",
       "3                  98-105               80      Group-based   \n",
       "4                      70               56      Group-based   \n",
       "\n",
       "  Offspring per Birth  \n",
       "0                   1  \n",
       "1                 2-5  \n",
       "2                   1  \n",
       "3       2-4 (usually)  \n",
       "4               10-12  "
      ]
     },
     "execution_count": 2,
     "metadata": {},
     "output_type": "execute_result"
    }
   ],
   "source": [
    "df = pd.read_csv(\"./data/Animal Dataset.csv\")\n",
    "df.head()"
   ]
  },
  {
   "cell_type": "code",
   "execution_count": 3,
   "metadata": {},
   "outputs": [
    {
     "data": {
      "text/plain": [
       "array(['105-130', '40-50', '270-310', '80-110', '75-80', '67-101', '2-13',\n",
       "       '152-186', '52-91', '140-160', '70-90', '25-30', 'Up to 120',\n",
       "       '200-300', '200-250', '112-160', 'Up to 30', '35-37', '76-107',\n",
       "       '70-102', '41-71', 'Up to 75', 'Up to 1100', 'Up to 60', '35-40',\n",
       "       '90-110', '132-180', 'Not Applicable', '22-30', 'Up to 15',\n",
       "       'Up to 33.5m', '81-85', 'Up to 20', 'Up to 150', '96-150',\n",
       "       '200-400', '53-63', 'Up to 5', '70-120', 'Up to 460', '50-62',\n",
       "       'Up to 160', 'Up to 180', '7-10', 'Up to 200', '20-36', '50-61',\n",
       "       '50-55', '48-58', 'Up to 300', '140-188', '30-45', 'Up to 270',\n",
       "       '100', '23-26', '14-30', '20-40', '15-25', 'Up to 40', 'Up to 90',\n",
       "       '49-53', '48-53', 'Up to 183', 'Varies', '180-300', '80-105',\n",
       "       'Up to 600', '2.2-7.7', 'Up to 320', 'Up to 366', 'Up to 35',\n",
       "       '3-6', 'Up to 610', 'Up to 670', 'Up to 550', '130-160',\n",
       "       'Up to 127', '86-107', '120-160', 'Up to 56', '7.5-13',\n",
       "       'Up to 1700', '60-70', 'Up to 70', '35-55', '50-60', '7-15',\n",
       "       '25-46', 'Up to 25', '30-50', '30-65', '45-60', '80-100', '77-100',\n",
       "       '300-400', '67-107', 'Up to 115', '25-35', 'Up to 244', '120-200',\n",
       "       'Up to 9', 'Up to 500', '35-45', '30-100', '45-75', 'Up to 18',\n",
       "       '9-15', '12-15', '10-15', '21-58', '81-104', '40-54', '35-50',\n",
       "       '140-180', '50-65', '5.1-7.5', '56-69', '100-150', '54-62',\n",
       "       '110-140', 'Up to 394', '20-38', '50-70', '52-71', 'Up to 2056',\n",
       "       '35-64', '70-92', '12-20', '66-100', '100-145', '112-145', '70-87',\n",
       "       '120-150', 'Up to 16', '30-76', '100-130', 'Up to 0.5', '46-58',\n",
       "       '61-78', '108-133', 'Up to 1440', '55-65', '51-79', 'Up to 0.7',\n",
       "       'Up to 80', '35-41', '46-56', 'Up to 3200', '85-150', '140-200',\n",
       "       'Up to 1800', '1400-2300', '240-260', '65-100', '170-250', '66-81',\n",
       "       '84-118', '6.7-18', 'Up to 4200', '60-65', '220-340', 'Up to 330'],\n",
       "      dtype=object)"
      ]
     },
     "execution_count": 3,
     "metadata": {},
     "output_type": "execute_result"
    }
   ],
   "source": [
    "df[\"Height (cm)\"].unique()"
   ]
  },
  {
   "cell_type": "code",
   "execution_count": 5,
   "metadata": {},
   "outputs": [],
   "source": [
    "import re\n",
    "def convert_height(value):\n",
    "    if pd.isna(value):\n",
    "        return 0\n",
    "    \n",
    "    value = str(value).strip()\n",
    "    \n",
    "    # Check for \"number - number\" format\n",
    "    range_match = re.match(r'(\\d+(?:\\.\\d+)?)\\s*-\\s*(\\d+(?:\\.\\d+)?)', value)\n",
    "    if range_match:\n",
    "        start, end = map(float, range_match.groups())\n",
    "        return (start + end) / 2\n",
    "    \n",
    "    # Check for \"Up to number\" format\n",
    "    up_to_match = re.match(r'Up to (\\d+(?:\\.\\d+)?)', value)\n",
    "    if up_to_match:\n",
    "        return float(up_to_match.group(1))\n",
    "    \n",
    "    # Check if it's a single number\n",
    "    if value.replace('.', '', 1).isdigit():\n",
    "        return float(value)\n",
    "    \n",
    "    # For any other format, return 0\n",
    "    return 0"
   ]
  },
  {
   "cell_type": "code",
   "execution_count": 6,
   "metadata": {},
   "outputs": [],
   "source": [
    "df['Height (cm)'] = df['Height (cm)'].apply(convert_height)"
   ]
  },
  {
   "cell_type": "code",
   "execution_count": 7,
   "metadata": {},
   "outputs": [
    {
     "data": {
      "text/plain": [
       "array([1.175e+02, 4.500e+01, 2.900e+02, 9.500e+01, 7.750e+01, 8.400e+01,\n",
       "       7.500e+00, 1.690e+02, 7.150e+01, 1.500e+02, 8.000e+01, 2.750e+01,\n",
       "       1.200e+02, 2.500e+02, 2.250e+02, 1.360e+02, 3.000e+01, 3.600e+01,\n",
       "       9.150e+01, 8.600e+01, 5.600e+01, 7.500e+01, 1.100e+03, 6.000e+01,\n",
       "       3.750e+01, 1.000e+02, 1.560e+02, 0.000e+00, 2.600e+01, 1.500e+01,\n",
       "       3.350e+01, 8.300e+01, 2.000e+01, 1.230e+02, 3.000e+02, 5.800e+01,\n",
       "       5.000e+00, 4.600e+02, 1.600e+02, 1.800e+02, 8.500e+00, 2.000e+02,\n",
       "       2.800e+01, 5.550e+01, 5.250e+01, 5.300e+01, 1.640e+02, 2.700e+02,\n",
       "       2.450e+01, 2.200e+01, 4.000e+01, 9.000e+01, 5.100e+01, 5.050e+01,\n",
       "       1.830e+02, 2.400e+02, 9.250e+01, 6.000e+02, 4.950e+00, 3.200e+02,\n",
       "       3.660e+02, 3.500e+01, 4.500e+00, 6.100e+02, 6.700e+02, 5.500e+02,\n",
       "       1.450e+02, 1.270e+02, 9.650e+01, 1.400e+02, 1.025e+01, 1.700e+03,\n",
       "       6.500e+01, 7.000e+01, 5.500e+01, 1.100e+01, 3.550e+01, 2.500e+01,\n",
       "       4.750e+01, 8.850e+01, 3.500e+02, 8.700e+01, 1.150e+02, 2.440e+02,\n",
       "       9.000e+00, 5.000e+02, 1.800e+01, 1.200e+01, 1.350e+01, 1.250e+01,\n",
       "       3.950e+01, 4.700e+01, 4.250e+01, 5.750e+01, 6.300e+00, 6.250e+01,\n",
       "       1.250e+02, 3.940e+02, 2.900e+01, 6.150e+01, 2.056e+03, 4.950e+01,\n",
       "       8.100e+01, 1.600e+01, 1.225e+02, 1.285e+02, 7.850e+01, 1.350e+02,\n",
       "       5.000e-01, 5.200e+01, 6.950e+01, 1.205e+02, 1.440e+03, 7.000e-01,\n",
       "       3.800e+01, 3.200e+03, 1.700e+02, 1.800e+03, 1.850e+03, 8.250e+01,\n",
       "       2.100e+02, 7.350e+01, 1.010e+02, 1.235e+01, 4.200e+03, 2.800e+02,\n",
       "       3.300e+02])"
      ]
     },
     "execution_count": 7,
     "metadata": {},
     "output_type": "execute_result"
    }
   ],
   "source": [
    "df[\"Height (cm)\"].unique()"
   ]
  },
  {
   "cell_type": "code",
   "execution_count": 8,
   "metadata": {},
   "outputs": [
    {
     "data": {
      "text/plain": [
       "array(['40-65', '8-14', '2700-6000', '120-250', '18-36', '19-120',\n",
       "       'Up to 0.5', '318-1,000', '22-41', '380-1000', '65-90', '2.5-9',\n",
       "       'Up to 6.7', '2000-5000', '500-620', '120-140', '18-40',\n",
       "       'Up to 300', '2.2-2.7', '150-400', '3-6', '2-5', '5-13', '400-700',\n",
       "       'Up to 600', '2.5-4', '220-260', '800-1,400', 'Up to 10',\n",
       "       'Not Applicable', '0.07-0.12', 'Up to 0.028', 'Up to 200 tons',\n",
       "       '1.5-3', 'Up to 0.3', '30-40', '30-82', '150-650', '25-32',\n",
       "       'Up to 0.006', '70-780', 'Up to 90', '35-66', '20-72', '26-70',\n",
       "       'Up to 65', '50-300', '100-135', '4.5-16', '23-32', '12-21',\n",
       "       '13-20', 'Up to 420', '73-204', '2.5-6.5', 'Up to 20', '22-45',\n",
       "       '300-400', '0.6-1.2', '0.8-1.6', 'Up to 55', 'Up to 1.1', '5-8',\n",
       "       '1.5-2.5', '1.7-2.6', 'Up to 417', 'Varies', '600-1300', '28-52',\n",
       "       'Up to 1500', 'Up to 25', '70-125', 'Up to 2.3', 'Up to 0.03',\n",
       "       'Up to 210', 'Up to 0.7', 'Up to 2.4', 'Up to 2268', 'Up to 97.5',\n",
       "       'Up to 200', '68-190', '350-450', 'Up to 0.6', 'Up to 160',\n",
       "       '4.5-9', '1300-3200', '2-20', 'Up to 30000', '9-14', 'Up to 6',\n",
       "       '10-14', 'Up to 4', '0.035-0.15', 'Up to 9', '1.0-3.3',\n",
       "       'Up to 250', '0.6-3.5', '0.6-4.5', '2.5-10', '0.9-1.2', '0.85-1.1',\n",
       "       'Up to 2.2', '400-590', '20-25', 'Up to 2.7', 'Up to 110', '0.6-1',\n",
       "       'Up to 166', '70-200', 'Up to 80', 'Up to 1600', 'Up to 1',\n",
       "       '0.32-1', '200-350', '2-40', '5.5-16', 'Up to 0.4', 'Up to 120',\n",
       "       'Up to 0.1', '0.7-2.4', 'Up to 700', '0.2-1', '0.02-0.5', '14-24',\n",
       "       '40-70', 'Up to 0.8', '2.5-5', '3-7', '18-95', '36-60',\n",
       "       'Up to 100', '2.3-4.5', '8-18', '4-6', 'Up to 800', '16-27',\n",
       "       '3.6-9', '0.3-1.6', '22-75', '1.6-3.3', '35-77', 'Up to 57000',\n",
       "       '6-9', '44-64', '0.5-1', 'Up to 0.06', '23-56', '750-950',\n",
       "       '500-950', '47-121', '27-80', 'Up to 0.2', '4-14', '20-30',\n",
       "       'Up to 0.02', 'Up to 85', 'Up to 8', '63-75', '100-390',\n",
       "       'Up to 24950', '540-700', '4-8', 'Up to 1.5', '0.4-1', '2-3',\n",
       "       'Up to 0.05', 'Up to 1200', '60-150', '300-1200', '68-182',\n",
       "       '68-181', '1800-2500', '100-300', '30-120', '200-390', '23-80',\n",
       "       '9-25', '20-35', '0.02-0.07', 'Up to 12000', '500-1200', '1-3',\n",
       "       '400-900', 'Up to 32'], dtype=object)"
      ]
     },
     "execution_count": 8,
     "metadata": {},
     "output_type": "execute_result"
    }
   ],
   "source": [
    "df[\"Weight (kg)\"].unique()"
   ]
  },
  {
   "cell_type": "code",
   "execution_count": 9,
   "metadata": {},
   "outputs": [],
   "source": [
    "df['Weight (kg)'] = df['Weight (kg)'].apply(convert_height)"
   ]
  },
  {
   "cell_type": "code",
   "execution_count": 10,
   "metadata": {},
   "outputs": [
    {
     "data": {
      "text/plain": [
       "array([5.250e+01, 1.100e+01, 4.350e+03, 1.850e+02, 2.700e+01, 6.950e+01,\n",
       "       5.000e-01, 1.595e+02, 3.150e+01, 6.900e+02, 7.750e+01, 5.750e+00,\n",
       "       6.700e+00, 3.500e+03, 5.600e+02, 1.300e+02, 2.900e+01, 3.000e+02,\n",
       "       2.450e+00, 2.750e+02, 4.500e+00, 3.500e+00, 9.000e+00, 5.500e+02,\n",
       "       6.000e+02, 3.250e+00, 2.400e+02, 4.005e+02, 1.000e+01, 0.000e+00,\n",
       "       9.500e-02, 2.800e-02, 2.000e+02, 2.250e+00, 3.000e-01, 3.500e+01,\n",
       "       5.600e+01, 4.000e+02, 2.850e+01, 6.000e-03, 4.250e+02, 9.000e+01,\n",
       "       5.050e+01, 4.600e+01, 4.800e+01, 6.500e+01, 1.750e+02, 1.175e+02,\n",
       "       1.025e+01, 2.750e+01, 1.650e+01, 4.200e+02, 1.385e+02, 2.000e+01,\n",
       "       3.350e+01, 3.500e+02, 9.000e-01, 1.200e+00, 5.500e+01, 1.100e+00,\n",
       "       6.500e+00, 2.000e+00, 2.150e+00, 4.170e+02, 9.500e+02, 4.000e+01,\n",
       "       1.500e+03, 2.500e+01, 9.750e+01, 2.300e+00, 3.000e-02, 2.100e+02,\n",
       "       7.000e-01, 2.400e+00, 2.268e+03, 1.290e+02, 6.000e-01, 1.600e+02,\n",
       "       6.750e+00, 2.250e+03, 3.000e+04, 1.150e+01, 6.000e+00, 1.200e+01,\n",
       "       4.000e+00, 9.250e-02, 2.500e+02, 2.050e+00, 2.550e+00, 6.250e+00,\n",
       "       1.050e+00, 9.750e-01, 2.200e+00, 4.950e+02, 2.250e+01, 2.700e+00,\n",
       "       1.100e+02, 8.000e-01, 1.660e+02, 1.350e+02, 8.000e+01, 1.600e+03,\n",
       "       1.000e+00, 6.600e-01, 2.100e+01, 1.075e+01, 4.000e-01, 1.200e+02,\n",
       "       1.000e-01, 1.550e+00, 7.000e+02, 2.600e-01, 1.900e+01, 3.750e+00,\n",
       "       5.000e+00, 5.650e+01, 1.000e+02, 3.400e+00, 1.300e+01, 8.000e+02,\n",
       "       2.150e+01, 6.300e+00, 9.500e-01, 4.850e+01, 5.700e+04, 7.500e+00,\n",
       "       5.400e+01, 7.500e-01, 6.000e-02, 3.950e+01, 8.500e+02, 7.250e+02,\n",
       "       8.400e+01, 5.350e+01, 2.000e-01, 2.000e-02, 8.500e+01, 8.000e+00,\n",
       "       6.900e+01, 2.450e+02, 2.495e+04, 6.200e+02, 1.500e+00, 2.500e+00,\n",
       "       5.000e-02, 1.200e+03, 1.050e+02, 7.500e+02, 1.250e+02, 1.245e+02,\n",
       "       2.150e+03, 7.500e+01, 2.950e+02, 5.150e+01, 1.700e+01, 4.500e-02,\n",
       "       1.200e+04, 6.500e+02, 3.200e+01])"
      ]
     },
     "execution_count": 10,
     "metadata": {},
     "output_type": "execute_result"
    }
   ],
   "source": [
    "df[\"Weight (kg)\"].unique()"
   ]
  },
  {
   "cell_type": "code",
   "execution_count": 11,
   "metadata": {},
   "outputs": [
    {
     "data": {
      "text/plain": [
       "array(['20-30', '10-12', '60-70', '10-14', '15-20', '4-17', '25-30',\n",
       "       '10-20', '3-6', '60-80', '20-25', '14-17', '10-15', '20-23',\n",
       "       '7-10', 'Up to 30', '6-15', '6-8', '35-50', 'Up to 100',\n",
       "       'Up to 130', '1-2 weeks', '70-90', '12-17', '6-8 months', '40-60',\n",
       "       '35-45', '20-50', '1-2', '8-10', '40-50', 'Up to 70', '6-10',\n",
       "       'Up to 60', '30-50', '15-18', '10-13', '70-80', '2-5', '15-23',\n",
       "       'Up to 15', '100-150', 'Varies', '3-5', 'Up to 20', '10-14 days',\n",
       "       '30-35', '10-17', '30-40', '70', '80-100', '80', 'Up to 300',\n",
       "       '20-35', '25-35', 'Up to 20 years', '45-50', '60+', '25-50',\n",
       "       'Up to 10', '15-25', '20-40', '12-14', '35-40', 'Up to 32',\n",
       "       '50-60', 'Up to 5', '30-45', '5-10', '4-8', '4', '6-12', '3-10',\n",
       "       'Up to 23', '8-12', 'Up to 21', '28-35', '10-16', '20-24', '10-25',\n",
       "       '25-36', '12-25', 'Up to 4', '12-20', '5-8', '4-7', '5-20', '10',\n",
       "       'Up to 28', '20-21', '70-100', '8-13', '7-12'], dtype=object)"
      ]
     },
     "execution_count": 11,
     "metadata": {},
     "output_type": "execute_result"
    }
   ],
   "source": [
    "df[\"Lifespan (years)\"].unique()"
   ]
  },
  {
   "cell_type": "code",
   "execution_count": 12,
   "metadata": {},
   "outputs": [],
   "source": [
    "df['Lifespan (years)'] = df['Lifespan (years)'].apply(convert_height)"
   ]
  },
  {
   "cell_type": "code",
   "execution_count": 13,
   "metadata": {},
   "outputs": [
    {
     "data": {
      "text/plain": [
       "array([ 25. ,  11. ,  65. ,  12. ,  17.5,  10.5,  27.5,  15. ,   4.5,\n",
       "        70. ,  22.5,  15.5,  12.5,  21.5,   8.5,  30. ,   7. ,  42.5,\n",
       "       100. , 130. ,   1.5,  80. ,  14.5,  50. ,  40. ,  35. ,   9. ,\n",
       "        45. ,   8. ,  60. ,  16.5,  11.5,  75. ,   3.5,  19. , 125. ,\n",
       "         0. ,   4. ,  20. ,  32.5,  13.5,  90. , 300. ,  47.5,  37.5,\n",
       "        10. ,  13. ,  32. ,  55. ,   5. ,   7.5,   6. ,   6.5,  23. ,\n",
       "        21. ,  31.5,  22. ,  30.5,  18.5,  16. ,   5.5,  28. ,  20.5,\n",
       "        85. ,   9.5])"
      ]
     },
     "execution_count": 13,
     "metadata": {},
     "output_type": "execute_result"
    }
   ],
   "source": [
    "df[\"Lifespan (years)\"].unique()"
   ]
  },
  {
   "cell_type": "code",
   "execution_count": 14,
   "metadata": {},
   "outputs": [
    {
     "data": {
      "text/plain": [
       "array(['40', '24-30', '25', '58', '56', '56-64', '0.1-1', '40-56', '24',\n",
       "       '65', '55', '60', '16-32', '30-50', '40-64', '24-40', '0.8', '32',\n",
       "       '48', '120', '16', '30', '14-28', 'Not Applicable', '25-35',\n",
       "       '40-60', '37', '64', '1.6-2.4', '30-35', '112', '8', '1.6',\n",
       "       '30-45', '40-45', '48-64', '10-15', '16-56', '2-2.5', '4-6',\n",
       "       '40-50', '45-48', '29', '24-35', '6-7', '0.3-0.5', 'Varies',\n",
       "       '30-40', '1-2', '1.6-3', '8-13', '0.3', '16-24 (in water)',\n",
       "       '1.6-3.2', '35', '19-22', '50', '0.8-1.6', '40-80', '24-27',\n",
       "       '70-80', '40-58', '2.5', '20', '6.4-9.6', '0.8-1', '24-29',\n",
       "       '0.02-0.03', '0.03-0.08', '45', '6-12', '72', '3-7', '16-24',\n",
       "       '0.5-0.7', '24-32', '88.5', '0.2-0.4', '26', '44', '14-16',\n",
       "       '50-65', '0.03-0.24', '80', '1.2', '32-56', '40-72', '0.16-0.32',\n",
       "       '28', '27', '29-42', '0.03', '17', '70', '22', '47', '56-70'],\n",
       "      dtype=object)"
      ]
     },
     "execution_count": 14,
     "metadata": {},
     "output_type": "execute_result"
    }
   ],
   "source": [
    "df[\"Average Speed (km/h)\"].unique()"
   ]
  },
  {
   "cell_type": "code",
   "execution_count": 15,
   "metadata": {},
   "outputs": [],
   "source": [
    "df['Average Speed (km/h)'] = df['Average Speed (km/h)'].apply(convert_height)"
   ]
  },
  {
   "cell_type": "code",
   "execution_count": 16,
   "metadata": {},
   "outputs": [
    {
     "data": {
      "text/plain": [
       "array([4.00e+01, 2.70e+01, 2.50e+01, 5.80e+01, 5.60e+01, 6.00e+01,\n",
       "       5.50e-01, 4.80e+01, 2.40e+01, 6.50e+01, 5.50e+01, 5.20e+01,\n",
       "       3.20e+01, 8.00e-01, 1.20e+02, 1.60e+01, 3.00e+01, 2.10e+01,\n",
       "       0.00e+00, 5.00e+01, 3.70e+01, 6.40e+01, 2.00e+00, 3.25e+01,\n",
       "       1.12e+02, 8.00e+00, 1.60e+00, 3.75e+01, 4.25e+01, 1.25e+01,\n",
       "       3.60e+01, 2.25e+00, 5.00e+00, 4.50e+01, 4.65e+01, 2.90e+01,\n",
       "       2.95e+01, 6.50e+00, 4.00e-01, 3.50e+01, 1.50e+00, 2.30e+00,\n",
       "       1.05e+01, 3.00e-01, 2.00e+01, 2.40e+00, 2.05e+01, 1.20e+00,\n",
       "       2.55e+01, 7.50e+01, 4.90e+01, 2.50e+00, 9.00e-01, 2.65e+01,\n",
       "       2.50e-02, 5.50e-02, 9.00e+00, 7.20e+01, 6.00e-01, 2.80e+01,\n",
       "       8.85e+01, 3.00e-01, 2.60e+01, 4.40e+01, 1.50e+01, 5.75e+01,\n",
       "       1.35e-01, 8.00e+01, 1.20e+00, 2.40e-01, 3.55e+01, 3.00e-02,\n",
       "       1.70e+01, 7.00e+01, 2.20e+01, 4.70e+01, 6.30e+01])"
      ]
     },
     "execution_count": 16,
     "metadata": {},
     "output_type": "execute_result"
    }
   ],
   "source": [
    "df[\"Average Speed (km/h)\"].unique()"
   ]
  },
  {
   "cell_type": "code",
   "execution_count": 17,
   "metadata": {},
   "outputs": [
    {
     "data": {
      "text/plain": [
       "array(['210-240', '90', '640-660', '98-105', '70', '150', '10-15',\n",
       "       '270-290', '190-210', '330-342', '52-60', 'Not Applicable', '40',\n",
       "       '360-380', '300-350', '14-21', '160-170', '390-395', '34-36',\n",
       "       '60-64', '165-200', '36-42 months', '40-70', '50-60', '104-106',\n",
       "       '450-480', '17-18', '10-12 months', '41-45', '50-70', '220-230',\n",
       "       '230-270', '12 months', '63', '21-35', '180-250', '88-100',\n",
       "       '90-98', '230-240', '6-10', '260-330 million years', '40-80',\n",
       "       '140-160', '60-63', '13-14 months', '255-270', '22-28', '10 weeks',\n",
       "       '62-66', '140-145', '35', '50-52', '30-60', '140-150', '43-49',\n",
       "       '38-40', '135', 'Varies', '275-280', '170-215', '94-123', '95-160',\n",
       "       '120-150', '10-20', '125-130', '14', '12-18 months', '12-18',\n",
       "       '150-160', '45-70', '45-75', '390-396', '335', '56-58', '230-250',\n",
       "       '2 weeks', '13-22', '365', '63-67', '120-140', '1 week', '173-194',\n",
       "       '21-24', '22-24', '90-113', '63-92', '7-8 months', '45-60',\n",
       "       '30-40', '134-138', '120-135', '150-170', '50-55', '180-270',\n",
       "       '365-450', '175-190', '65-70', '20-30', '135-170', '70-73',\n",
       "       '14-16 months', '440-450', '420-450', '240-260', '75-80',\n",
       "       '6-9 weeks', '10 days (in burrow)', '195-265', '10-60', '166-200',\n",
       "       '240', '25-30', '52', '30-34', '112-158', '5-7', '61-65', '42-46',\n",
       "       '54-72', '30-35', '20-24', '120-180', '23-26', '90-100', '32-34',\n",
       "       '200-294', '110-160', '90-110', '15-20', '16-22', '430-640',\n",
       "       '425-475', '140-230', '90-150', '180-210', '21-28', '121-128',\n",
       "       '58-82', '280-310', '420-470', '17-20', '126-130', '12-15',\n",
       "       '122-130', '120-130', '10-11 months', '20-25', '160-220',\n",
       "       '240-270', '220-270', '100-150', '240-300', '230-260', '160-190',\n",
       "       '90-160', '40-45', '126-138', '215-280', '80-90', '180-365',\n",
       "       '10-25'], dtype=object)"
      ]
     },
     "execution_count": 17,
     "metadata": {},
     "output_type": "execute_result"
    }
   ],
   "source": [
    "df[\"Gestation Period (days)\"].unique()"
   ]
  },
  {
   "cell_type": "code",
   "execution_count": 18,
   "metadata": {},
   "outputs": [],
   "source": [
    "df[\"Gestation Period (days)\"] = df[\"Gestation Period (days)\"].apply(convert_height)"
   ]
  },
  {
   "cell_type": "code",
   "execution_count": 19,
   "metadata": {},
   "outputs": [
    {
     "data": {
      "text/plain": [
       "array([225. ,  90. , 650. , 101.5,  70. , 150. ,  12.5, 280. , 200. ,\n",
       "       336. ,  56. ,   0. ,  40. , 370. , 325. ,  17.5, 165. , 392.5,\n",
       "        35. ,  62. , 182.5,  39. ,  55. , 105. , 465. ,  11. ,  43. ,\n",
       "        60. , 250. ,  63. ,  28. , 215. ,  94. , 235. ,   8. , 295. ,\n",
       "        61.5,  13.5, 262.5,  25. ,  64. , 142.5,  51. ,  45. , 145. ,\n",
       "        46. , 135. , 277.5, 192.5, 108.5, 127.5,  15. ,  14. , 155. ,\n",
       "        57.5, 393. , 335. ,  57. , 240. , 365. ,  65. , 130. , 183.5,\n",
       "        22.5,  23. ,  77.5,   7.5,  52.5, 136. , 160. , 407.5,  67.5,\n",
       "       152.5,  71.5, 445. , 435. , 230. , 183. ,  27.5,  52. ,  32. ,\n",
       "         6. ,  44. ,  32.5,  22. ,  24.5,  95. ,  33. , 247. , 100. ,\n",
       "        19. , 535. , 450. , 185. , 120. , 195. , 124.5,  18.5, 128. ,\n",
       "       126. , 125. ,  10.5, 190. , 255. , 245. , 270. , 175. ,  42.5,\n",
       "       132. , 247.5,  85. , 272.5])"
      ]
     },
     "execution_count": 19,
     "metadata": {},
     "output_type": "execute_result"
    }
   ],
   "source": [
    "df[\"Gestation Period (days)\"].unique()"
   ]
  },
  {
   "cell_type": "code",
   "execution_count": 20,
   "metadata": {},
   "outputs": [
    {
     "data": {
      "text/plain": [
       "array(['40', '80', '56', '56-64', '0.8', '24', '65', '55', '60', '32',\n",
       "       '40-64', '24-40', '0.2-0.3', '48', '120', '16', '30', '14-28',\n",
       "       'Not Applicable', '39', '25-35', '40-60', '64', '1.6-2.4', '35',\n",
       "       '112', '1.6', '37', '48-64', '27', '16-56', '4.8', '9', '4-6',\n",
       "       '40-50', '45-48', '29', '24-35', '0.3', 'Varies', '30-40', '95',\n",
       "       '8-13', '28', '50', '24-27', '70-80', '2.4', '20', '8', '30-50',\n",
       "       '45', '58', '72', '16-24', '24-32', '88.5', '0.2-0.4', '26', '44',\n",
       "       '14-16', '0.03-0.24', '1.2', '32-56', '40-72', '17', '70', '22',\n",
       "       '47', '56-70', '25'], dtype=object)"
      ]
     },
     "execution_count": 20,
     "metadata": {},
     "output_type": "execute_result"
    }
   ],
   "source": [
    "df[\"Top Speed (km/h)\"].unique()"
   ]
  },
  {
   "cell_type": "code",
   "execution_count": 21,
   "metadata": {},
   "outputs": [],
   "source": [
    "df[\"Top Speed (km/h)\"] = df[\"Top Speed (km/h)\"].apply(convert_height)"
   ]
  },
  {
   "cell_type": "code",
   "execution_count": 22,
   "metadata": {},
   "outputs": [
    {
     "data": {
      "text/plain": [
       "array([ 40.   ,  80.   ,  56.   ,  60.   ,   0.8  ,  24.   ,  65.   ,\n",
       "        55.   ,  32.   ,  52.   ,   0.25 ,  48.   , 120.   ,  16.   ,\n",
       "        30.   ,  21.   ,   0.   ,  39.   ,  50.   ,  64.   ,   2.   ,\n",
       "        35.   , 112.   ,   1.6  ,  37.   ,  27.   ,  36.   ,   4.8  ,\n",
       "         9.   ,   5.   ,  45.   ,  46.5  ,  29.   ,  29.5  ,   0.3  ,\n",
       "        95.   ,  10.5  ,  28.   ,  25.5  ,  75.   ,   2.4  ,  20.   ,\n",
       "         8.   ,  58.   ,  72.   ,  88.5  ,   0.3  ,  26.   ,  44.   ,\n",
       "        15.   ,   0.135,   1.2  ,  17.   ,  70.   ,  22.   ,  47.   ,\n",
       "        63.   ,  25.   ])"
      ]
     },
     "execution_count": 22,
     "metadata": {},
     "output_type": "execute_result"
    }
   ],
   "source": [
    "df[\"Top Speed (km/h)\"].unique()"
   ]
  },
  {
   "cell_type": "code",
   "execution_count": 23,
   "metadata": {},
   "outputs": [
    {
     "data": {
      "text/plain": [
       "array(['1', '2-5', '2-4 (usually)', '10-12', 'Up to 40', '4-11',\n",
       "       'Not Applicable', '100-300', '1-3', '2-4', 'Up to 24', '2-6',\n",
       "       '1 (rarely 2)', 'Up to 100', '3-8', 'Up to 1,000', '1-4', '30-80',\n",
       "       '2-8', '3-5', '20-30', '6-9', '4-8', '1-10', 'Thousands', '1-2',\n",
       "       '3-7', '10-60', '6-25', 'Up to 16', 'Varies', '20-95',\n",
       "       'Up to 200,000', 'Up to 30', '2-14 (approx.)', '2-17', 'Up to 80',\n",
       "       '1-4 (usually 1)', '20-40', '20-25', 'Up to 300', '8-16',\n",
       "       'Hundreds', 'Up to 28', '4-6', 'Up to 10,000', '1-3 (rarely 5)',\n",
       "       'Up to 400', '6-12', '2', 'Up to 10', '1-5', '3-11', '40-50',\n",
       "       '2-10', '1-4 (usually 2-3)', '1-6', 'Up to 200', '4-32', '30-500',\n",
       "       '1-14', '6-30', '1-1000', '2-20', '2-3', '10-50', '5-20',\n",
       "       'Up to 25'], dtype=object)"
      ]
     },
     "execution_count": 23,
     "metadata": {},
     "output_type": "execute_result"
    }
   ],
   "source": [
    "df[\"Offspring per Birth\"].unique()"
   ]
  },
  {
   "cell_type": "code",
   "execution_count": 24,
   "metadata": {},
   "outputs": [],
   "source": [
    "df[\"Offspring per Birth\"] = df[\"Offspring per Birth\"].apply(convert_height)"
   ]
  },
  {
   "cell_type": "code",
   "execution_count": 25,
   "metadata": {},
   "outputs": [
    {
     "data": {
      "text/plain": [
       "0       1.0\n",
       "1       3.5\n",
       "2       1.0\n",
       "3       3.0\n",
       "4      11.0\n",
       "       ... \n",
       "200    30.0\n",
       "201     1.0\n",
       "202     0.0\n",
       "203    12.5\n",
       "204    25.0\n",
       "Name: Offspring per Birth, Length: 205, dtype: float64"
      ]
     },
     "execution_count": 25,
     "metadata": {},
     "output_type": "execute_result"
    }
   ],
   "source": [
    "df[\"Offspring per Birth\"]"
   ]
  },
  {
   "cell_type": "code",
   "execution_count": 26,
   "metadata": {},
   "outputs": [],
   "source": [
    "df.to_csv(\"./data/Animal Dataset Cleaned.csv\", index=False)\n"
   ]
  },
  {
   "cell_type": "code",
   "execution_count": null,
   "metadata": {},
   "outputs": [],
   "source": []
  },
  {
   "cell_type": "code",
   "execution_count": 33,
   "metadata": {},
   "outputs": [],
   "source": [
    "import plotly.graph_objects as go\n",
    "import pandas as pd\n",
    "import numpy as np"
   ]
  },
  {
   "cell_type": "code",
   "execution_count": 37,
   "metadata": {},
   "outputs": [
    {
     "data": {
      "application/vnd.plotly.v1+json": {
       "config": {
        "plotlyServerURL": "https://plot.ly"
       },
       "data": [
        {
         "box": {
          "visible": true
         },
         "jitter": 0.1,
         "meanline": {
          "visible": true
         },
         "name": "Canidae",
         "points": "all",
         "scalemode": "count",
         "type": "violin",
         "x": [
          "Canidae",
          "Canidae",
          "Canidae",
          "Canidae",
          "Canidae",
          "Canidae",
          "Canidae",
          "Canidae",
          "Canidae",
          "Canidae",
          "Canidae",
          "Canidae",
          "Canidae",
          "Canidae"
         ],
         "y": [
          56,
          60,
          40,
          64,
          42.5,
          56,
          56,
          32,
          56,
          48,
          35,
          57.5,
          45,
          45
         ]
        },
        {
         "box": {
          "visible": true
         },
         "jitter": 0.1,
         "meanline": {
          "visible": true
         },
         "name": "Bovidae",
         "points": "all",
         "scalemode": "count",
         "type": "violin",
         "x": [
          "Bovidae",
          "Bovidae",
          "Bovidae",
          "Bovidae",
          "Bovidae",
          "Bovidae",
          "Bovidae",
          "Bovidae",
          "Bovidae",
          "Bovidae"
         ],
         "y": [
          60,
          48,
          55,
          35,
          55,
          52,
          26,
          40,
          47,
          24
         ]
        },
        {
         "box": {
          "visible": true
         },
         "jitter": 0.1,
         "meanline": {
          "visible": true
         },
         "name": "Felidae",
         "points": "all",
         "scalemode": "count",
         "type": "violin",
         "x": [
          "Felidae",
          "Felidae",
          "Felidae",
          "Felidae",
          "Felidae",
          "Felidae",
          "Felidae",
          "Felidae",
          "Felidae"
         ],
         "y": [
          58,
          65,
          112,
          75,
          44,
          50,
          24,
          28,
          22
         ]
        },
        {
         "box": {
          "visible": true
         },
         "jitter": 0.1,
         "meanline": {
          "visible": true
         },
         "name": "Hominidae",
         "points": "all",
         "scalemode": "count",
         "type": "violin",
         "x": [
          "Hominidae",
          "Hominidae",
          "Hominidae",
          "Hominidae",
          "Hominidae",
          "Hominidae",
          "Hominidae",
          "Hominidae",
          "Hominidae"
         ],
         "y": [
          50,
          52,
          40,
          40,
          40,
          9,
          35,
          40,
          40
         ]
        },
        {
         "box": {
          "visible": true
         },
         "jitter": 0.1,
         "meanline": {
          "visible": true
         },
         "name": "Ursidae",
         "points": "all",
         "scalemode": "count",
         "type": "violin",
         "x": [
          "Ursidae",
          "Ursidae",
          "Ursidae",
          "Ursidae",
          "Ursidae"
         ],
         "y": [
          48,
          32,
          40,
          45,
          44
         ]
        },
        {
         "box": {
          "visible": true
         },
         "jitter": 0.1,
         "meanline": {
          "visible": true
         },
         "name": "Cercopithecidae",
         "points": "all",
         "scalemode": "count",
         "type": "violin",
         "x": [
          "Cercopithecidae",
          "Cercopithecidae",
          "Cercopithecidae",
          "Cercopithecidae",
          "Cercopithecidae"
         ],
         "y": [
          30,
          30,
          35,
          30,
          28
         ]
        },
        {
         "box": {
          "visible": true
         },
         "jitter": 0.1,
         "meanline": {
          "visible": true
         },
         "name": "Rhinocerotidae",
         "points": "all",
         "scalemode": "count",
         "type": "violin",
         "x": [
          "Rhinocerotidae",
          "Rhinocerotidae",
          "Rhinocerotidae",
          "Rhinocerotidae"
         ],
         "y": [
          56,
          40,
          52,
          45
         ]
        },
        {
         "box": {
          "visible": true
         },
         "jitter": 0.1,
         "meanline": {
          "visible": true
         },
         "name": "Spheniscidae",
         "points": "all",
         "scalemode": "count",
         "type": "violin",
         "x": [
          "Spheniscidae",
          "Spheniscidae",
          "Spheniscidae",
          "Spheniscidae"
         ],
         "y": [
          2.25,
          29.5,
          6.5,
          25
         ]
        },
        {
         "box": {
          "visible": true
         },
         "jitter": 0.1,
         "meanline": {
          "visible": true
         },
         "name": "Accipitridae",
         "points": "all",
         "scalemode": "count",
         "type": "violin",
         "x": [
          "Accipitridae",
          "Accipitridae",
          "Accipitridae"
         ],
         "y": [
          120,
          50,
          0
         ]
        },
        {
         "box": {
          "visible": true
         },
         "jitter": 0.1,
         "meanline": {
          "visible": true
         },
         "name": "Agamidae",
         "points": "all",
         "scalemode": "count",
         "type": "violin",
         "x": [
          "Agamidae",
          "Agamidae",
          "Agamidae"
         ],
         "y": [
          52,
          29,
          0.24
         ]
        }
       ],
       "layout": {
        "template": {
         "data": {
          "bar": [
           {
            "error_x": {
             "color": "#2a3f5f"
            },
            "error_y": {
             "color": "#2a3f5f"
            },
            "marker": {
             "line": {
              "color": "#E5ECF6",
              "width": 0.5
             },
             "pattern": {
              "fillmode": "overlay",
              "size": 10,
              "solidity": 0.2
             }
            },
            "type": "bar"
           }
          ],
          "barpolar": [
           {
            "marker": {
             "line": {
              "color": "#E5ECF6",
              "width": 0.5
             },
             "pattern": {
              "fillmode": "overlay",
              "size": 10,
              "solidity": 0.2
             }
            },
            "type": "barpolar"
           }
          ],
          "carpet": [
           {
            "aaxis": {
             "endlinecolor": "#2a3f5f",
             "gridcolor": "white",
             "linecolor": "white",
             "minorgridcolor": "white",
             "startlinecolor": "#2a3f5f"
            },
            "baxis": {
             "endlinecolor": "#2a3f5f",
             "gridcolor": "white",
             "linecolor": "white",
             "minorgridcolor": "white",
             "startlinecolor": "#2a3f5f"
            },
            "type": "carpet"
           }
          ],
          "choropleth": [
           {
            "colorbar": {
             "outlinewidth": 0,
             "ticks": ""
            },
            "type": "choropleth"
           }
          ],
          "contour": [
           {
            "colorbar": {
             "outlinewidth": 0,
             "ticks": ""
            },
            "colorscale": [
             [
              0,
              "#0d0887"
             ],
             [
              0.1111111111111111,
              "#46039f"
             ],
             [
              0.2222222222222222,
              "#7201a8"
             ],
             [
              0.3333333333333333,
              "#9c179e"
             ],
             [
              0.4444444444444444,
              "#bd3786"
             ],
             [
              0.5555555555555556,
              "#d8576b"
             ],
             [
              0.6666666666666666,
              "#ed7953"
             ],
             [
              0.7777777777777778,
              "#fb9f3a"
             ],
             [
              0.8888888888888888,
              "#fdca26"
             ],
             [
              1,
              "#f0f921"
             ]
            ],
            "type": "contour"
           }
          ],
          "contourcarpet": [
           {
            "colorbar": {
             "outlinewidth": 0,
             "ticks": ""
            },
            "type": "contourcarpet"
           }
          ],
          "heatmap": [
           {
            "colorbar": {
             "outlinewidth": 0,
             "ticks": ""
            },
            "colorscale": [
             [
              0,
              "#0d0887"
             ],
             [
              0.1111111111111111,
              "#46039f"
             ],
             [
              0.2222222222222222,
              "#7201a8"
             ],
             [
              0.3333333333333333,
              "#9c179e"
             ],
             [
              0.4444444444444444,
              "#bd3786"
             ],
             [
              0.5555555555555556,
              "#d8576b"
             ],
             [
              0.6666666666666666,
              "#ed7953"
             ],
             [
              0.7777777777777778,
              "#fb9f3a"
             ],
             [
              0.8888888888888888,
              "#fdca26"
             ],
             [
              1,
              "#f0f921"
             ]
            ],
            "type": "heatmap"
           }
          ],
          "heatmapgl": [
           {
            "colorbar": {
             "outlinewidth": 0,
             "ticks": ""
            },
            "colorscale": [
             [
              0,
              "#0d0887"
             ],
             [
              0.1111111111111111,
              "#46039f"
             ],
             [
              0.2222222222222222,
              "#7201a8"
             ],
             [
              0.3333333333333333,
              "#9c179e"
             ],
             [
              0.4444444444444444,
              "#bd3786"
             ],
             [
              0.5555555555555556,
              "#d8576b"
             ],
             [
              0.6666666666666666,
              "#ed7953"
             ],
             [
              0.7777777777777778,
              "#fb9f3a"
             ],
             [
              0.8888888888888888,
              "#fdca26"
             ],
             [
              1,
              "#f0f921"
             ]
            ],
            "type": "heatmapgl"
           }
          ],
          "histogram": [
           {
            "marker": {
             "pattern": {
              "fillmode": "overlay",
              "size": 10,
              "solidity": 0.2
             }
            },
            "type": "histogram"
           }
          ],
          "histogram2d": [
           {
            "colorbar": {
             "outlinewidth": 0,
             "ticks": ""
            },
            "colorscale": [
             [
              0,
              "#0d0887"
             ],
             [
              0.1111111111111111,
              "#46039f"
             ],
             [
              0.2222222222222222,
              "#7201a8"
             ],
             [
              0.3333333333333333,
              "#9c179e"
             ],
             [
              0.4444444444444444,
              "#bd3786"
             ],
             [
              0.5555555555555556,
              "#d8576b"
             ],
             [
              0.6666666666666666,
              "#ed7953"
             ],
             [
              0.7777777777777778,
              "#fb9f3a"
             ],
             [
              0.8888888888888888,
              "#fdca26"
             ],
             [
              1,
              "#f0f921"
             ]
            ],
            "type": "histogram2d"
           }
          ],
          "histogram2dcontour": [
           {
            "colorbar": {
             "outlinewidth": 0,
             "ticks": ""
            },
            "colorscale": [
             [
              0,
              "#0d0887"
             ],
             [
              0.1111111111111111,
              "#46039f"
             ],
             [
              0.2222222222222222,
              "#7201a8"
             ],
             [
              0.3333333333333333,
              "#9c179e"
             ],
             [
              0.4444444444444444,
              "#bd3786"
             ],
             [
              0.5555555555555556,
              "#d8576b"
             ],
             [
              0.6666666666666666,
              "#ed7953"
             ],
             [
              0.7777777777777778,
              "#fb9f3a"
             ],
             [
              0.8888888888888888,
              "#fdca26"
             ],
             [
              1,
              "#f0f921"
             ]
            ],
            "type": "histogram2dcontour"
           }
          ],
          "mesh3d": [
           {
            "colorbar": {
             "outlinewidth": 0,
             "ticks": ""
            },
            "type": "mesh3d"
           }
          ],
          "parcoords": [
           {
            "line": {
             "colorbar": {
              "outlinewidth": 0,
              "ticks": ""
             }
            },
            "type": "parcoords"
           }
          ],
          "pie": [
           {
            "automargin": true,
            "type": "pie"
           }
          ],
          "scatter": [
           {
            "fillpattern": {
             "fillmode": "overlay",
             "size": 10,
             "solidity": 0.2
            },
            "type": "scatter"
           }
          ],
          "scatter3d": [
           {
            "line": {
             "colorbar": {
              "outlinewidth": 0,
              "ticks": ""
             }
            },
            "marker": {
             "colorbar": {
              "outlinewidth": 0,
              "ticks": ""
             }
            },
            "type": "scatter3d"
           }
          ],
          "scattercarpet": [
           {
            "marker": {
             "colorbar": {
              "outlinewidth": 0,
              "ticks": ""
             }
            },
            "type": "scattercarpet"
           }
          ],
          "scattergeo": [
           {
            "marker": {
             "colorbar": {
              "outlinewidth": 0,
              "ticks": ""
             }
            },
            "type": "scattergeo"
           }
          ],
          "scattergl": [
           {
            "marker": {
             "colorbar": {
              "outlinewidth": 0,
              "ticks": ""
             }
            },
            "type": "scattergl"
           }
          ],
          "scattermapbox": [
           {
            "marker": {
             "colorbar": {
              "outlinewidth": 0,
              "ticks": ""
             }
            },
            "type": "scattermapbox"
           }
          ],
          "scatterpolar": [
           {
            "marker": {
             "colorbar": {
              "outlinewidth": 0,
              "ticks": ""
             }
            },
            "type": "scatterpolar"
           }
          ],
          "scatterpolargl": [
           {
            "marker": {
             "colorbar": {
              "outlinewidth": 0,
              "ticks": ""
             }
            },
            "type": "scatterpolargl"
           }
          ],
          "scatterternary": [
           {
            "marker": {
             "colorbar": {
              "outlinewidth": 0,
              "ticks": ""
             }
            },
            "type": "scatterternary"
           }
          ],
          "surface": [
           {
            "colorbar": {
             "outlinewidth": 0,
             "ticks": ""
            },
            "colorscale": [
             [
              0,
              "#0d0887"
             ],
             [
              0.1111111111111111,
              "#46039f"
             ],
             [
              0.2222222222222222,
              "#7201a8"
             ],
             [
              0.3333333333333333,
              "#9c179e"
             ],
             [
              0.4444444444444444,
              "#bd3786"
             ],
             [
              0.5555555555555556,
              "#d8576b"
             ],
             [
              0.6666666666666666,
              "#ed7953"
             ],
             [
              0.7777777777777778,
              "#fb9f3a"
             ],
             [
              0.8888888888888888,
              "#fdca26"
             ],
             [
              1,
              "#f0f921"
             ]
            ],
            "type": "surface"
           }
          ],
          "table": [
           {
            "cells": {
             "fill": {
              "color": "#EBF0F8"
             },
             "line": {
              "color": "white"
             }
            },
            "header": {
             "fill": {
              "color": "#C8D4E3"
             },
             "line": {
              "color": "white"
             }
            },
            "type": "table"
           }
          ]
         },
         "layout": {
          "annotationdefaults": {
           "arrowcolor": "#2a3f5f",
           "arrowhead": 0,
           "arrowwidth": 1
          },
          "autotypenumbers": "strict",
          "coloraxis": {
           "colorbar": {
            "outlinewidth": 0,
            "ticks": ""
           }
          },
          "colorscale": {
           "diverging": [
            [
             0,
             "#8e0152"
            ],
            [
             0.1,
             "#c51b7d"
            ],
            [
             0.2,
             "#de77ae"
            ],
            [
             0.3,
             "#f1b6da"
            ],
            [
             0.4,
             "#fde0ef"
            ],
            [
             0.5,
             "#f7f7f7"
            ],
            [
             0.6,
             "#e6f5d0"
            ],
            [
             0.7,
             "#b8e186"
            ],
            [
             0.8,
             "#7fbc41"
            ],
            [
             0.9,
             "#4d9221"
            ],
            [
             1,
             "#276419"
            ]
           ],
           "sequential": [
            [
             0,
             "#0d0887"
            ],
            [
             0.1111111111111111,
             "#46039f"
            ],
            [
             0.2222222222222222,
             "#7201a8"
            ],
            [
             0.3333333333333333,
             "#9c179e"
            ],
            [
             0.4444444444444444,
             "#bd3786"
            ],
            [
             0.5555555555555556,
             "#d8576b"
            ],
            [
             0.6666666666666666,
             "#ed7953"
            ],
            [
             0.7777777777777778,
             "#fb9f3a"
            ],
            [
             0.8888888888888888,
             "#fdca26"
            ],
            [
             1,
             "#f0f921"
            ]
           ],
           "sequentialminus": [
            [
             0,
             "#0d0887"
            ],
            [
             0.1111111111111111,
             "#46039f"
            ],
            [
             0.2222222222222222,
             "#7201a8"
            ],
            [
             0.3333333333333333,
             "#9c179e"
            ],
            [
             0.4444444444444444,
             "#bd3786"
            ],
            [
             0.5555555555555556,
             "#d8576b"
            ],
            [
             0.6666666666666666,
             "#ed7953"
            ],
            [
             0.7777777777777778,
             "#fb9f3a"
            ],
            [
             0.8888888888888888,
             "#fdca26"
            ],
            [
             1,
             "#f0f921"
            ]
           ]
          },
          "colorway": [
           "#636efa",
           "#EF553B",
           "#00cc96",
           "#ab63fa",
           "#FFA15A",
           "#19d3f3",
           "#FF6692",
           "#B6E880",
           "#FF97FF",
           "#FECB52"
          ],
          "font": {
           "color": "#2a3f5f"
          },
          "geo": {
           "bgcolor": "white",
           "lakecolor": "white",
           "landcolor": "#E5ECF6",
           "showlakes": true,
           "showland": true,
           "subunitcolor": "white"
          },
          "hoverlabel": {
           "align": "left"
          },
          "hovermode": "closest",
          "mapbox": {
           "style": "light"
          },
          "paper_bgcolor": "white",
          "plot_bgcolor": "#E5ECF6",
          "polar": {
           "angularaxis": {
            "gridcolor": "white",
            "linecolor": "white",
            "ticks": ""
           },
           "bgcolor": "#E5ECF6",
           "radialaxis": {
            "gridcolor": "white",
            "linecolor": "white",
            "ticks": ""
           }
          },
          "scene": {
           "xaxis": {
            "backgroundcolor": "#E5ECF6",
            "gridcolor": "white",
            "gridwidth": 2,
            "linecolor": "white",
            "showbackground": true,
            "ticks": "",
            "zerolinecolor": "white"
           },
           "yaxis": {
            "backgroundcolor": "#E5ECF6",
            "gridcolor": "white",
            "gridwidth": 2,
            "linecolor": "white",
            "showbackground": true,
            "ticks": "",
            "zerolinecolor": "white"
           },
           "zaxis": {
            "backgroundcolor": "#E5ECF6",
            "gridcolor": "white",
            "gridwidth": 2,
            "linecolor": "white",
            "showbackground": true,
            "ticks": "",
            "zerolinecolor": "white"
           }
          },
          "shapedefaults": {
           "line": {
            "color": "#2a3f5f"
           }
          },
          "ternary": {
           "aaxis": {
            "gridcolor": "white",
            "linecolor": "white",
            "ticks": ""
           },
           "baxis": {
            "gridcolor": "white",
            "linecolor": "white",
            "ticks": ""
           },
           "bgcolor": "#E5ECF6",
           "caxis": {
            "gridcolor": "white",
            "linecolor": "white",
            "ticks": ""
           }
          },
          "title": {
           "x": 0.05
          },
          "xaxis": {
           "automargin": true,
           "gridcolor": "white",
           "linecolor": "white",
           "ticks": "",
           "title": {
            "standoff": 15
           },
           "zerolinecolor": "white",
           "zerolinewidth": 2
          },
          "yaxis": {
           "automargin": true,
           "gridcolor": "white",
           "linecolor": "white",
           "ticks": "",
           "title": {
            "standoff": 15
           },
           "zerolinecolor": "white",
           "zerolinewidth": 2
          }
         }
        },
        "title": {
         "text": "Average Speed Distribution for Large Animal Families"
        },
        "xaxis": {
         "tickangle": -45,
         "title": {
          "text": "Family"
         }
        },
        "yaxis": {
         "title": {
          "text": "Average Speed (km/h)"
         }
        }
       }
      }
     },
     "metadata": {},
     "output_type": "display_data"
    }
   ],
   "source": [
    "large_families = df['Family'].value_counts().nlargest(10).index\n",
    "df_large_families = df[df['Family'].isin(large_families)]\n",
    "\n",
    "\n",
    "fig = go.Figure()\n",
    "for family in large_families:\n",
    "    fig.add_trace(go.Violin(y=df_large_families['Average Speed (km/h)'][df_large_families['Family'] == family],\n",
    "                            x=df_large_families['Family'][df_large_families['Family'] == family],\n",
    "                            name=family,\n",
    "                            box_visible=True,\n",
    "                            meanline_visible=True,\n",
    "                            points='all',  # Show all data points\n",
    "                            jitter=0.1,\n",
    "                            scalemode='count',\n",
    "                            ))\n",
    "\n",
    "fig.update_layout(title=\"Average Speed Distribution for Large Animal Families\",\n",
    "                  yaxis_title=\"Average Speed (km/h)\", xaxis_title=\"Family\",\n",
    "                  xaxis_tickangle=-45)\n",
    "fig.show()"
   ]
  },
  {
   "cell_type": "code",
   "execution_count": null,
   "metadata": {},
   "outputs": [],
   "source": []
  }
 ],
 "metadata": {
  "kernelspec": {
   "display_name": ".venv",
   "language": "python",
   "name": "python3"
  },
  "language_info": {
   "codemirror_mode": {
    "name": "ipython",
    "version": 3
   },
   "file_extension": ".py",
   "mimetype": "text/x-python",
   "name": "python",
   "nbconvert_exporter": "python",
   "pygments_lexer": "ipython3",
   "version": "3.11.0"
  }
 },
 "nbformat": 4,
 "nbformat_minor": 2
}
